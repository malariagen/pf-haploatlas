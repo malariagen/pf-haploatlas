{
 "cells": [
  {
   "cell_type": "markdown",
   "id": "e685ea17-e8cd-4a3e-8c60-f4732e0abd9b",
   "metadata": {},
   "source": [
    "https://janakiev.com/blog/jupyter-virtual-envs/"
   ]
  },
  {
   "cell_type": "code",
   "execution_count": 1,
   "id": "0f8e6cb3-1d3d-45c7-b012-9f4205632edd",
   "metadata": {},
   "outputs": [
    {
     "name": "stdout",
     "output_type": "stream",
     "text": [
      "\u001b[33mWARNING: Ignoring invalid distribution -andas (/nfs/users/nfs_c/cl32/.local/lib/python3.9/site-packages)\u001b[0m\u001b[33m\n",
      "\u001b[0mRequirement already satisfied: virtualenv in /nfs/users/nfs_c/cl32/.local/lib/python3.9/site-packages (20.24.5)\n",
      "Requirement already satisfied: distlib<1,>=0.3.7 in /nfs/users/nfs_c/cl32/.local/lib/python3.9/site-packages (from virtualenv) (0.3.7)\n",
      "Requirement already satisfied: filelock<4,>=3.12.2 in /nfs/users/nfs_c/cl32/.local/lib/python3.9/site-packages (from virtualenv) (3.12.4)\n",
      "Requirement already satisfied: platformdirs<4,>=3.9.1 in /nfs/users/nfs_c/cl32/.local/lib/python3.9/site-packages (from virtualenv) (3.11.0)\n",
      "\u001b[33mWARNING: Ignoring invalid distribution -andas (/nfs/users/nfs_c/cl32/.local/lib/python3.9/site-packages)\u001b[0m\u001b[33m\n",
      "\u001b[0m\n",
      "\u001b[1m[\u001b[0m\u001b[34;49mnotice\u001b[0m\u001b[1;39;49m]\u001b[0m\u001b[39;49m A new release of pip is available: \u001b[0m\u001b[31;49m23.2\u001b[0m\u001b[39;49m -> \u001b[0m\u001b[32;49m23.3\u001b[0m\n",
      "\u001b[1m[\u001b[0m\u001b[34;49mnotice\u001b[0m\u001b[1;39;49m]\u001b[0m\u001b[39;49m To update, run: \u001b[0m\u001b[32;49mpip install --upgrade pip\u001b[0m\n"
     ]
    }
   ],
   "source": [
    "!pip install --user virtualenv"
   ]
  },
  {
   "cell_type": "code",
   "execution_count": 2,
   "id": "482bf241-5393-465a-9107-99fcfc86314b",
   "metadata": {},
   "outputs": [
    {
     "name": "stdout",
     "output_type": "stream",
     "text": [
      "Already using interpreter /usr/bin/python3\n",
      "Using base prefix '/usr'\n",
      "New python executable in /nfs/team112_data03/personal/cl32/gitlab/malariagen/gsp/mutation-discovery-app/env/bin/python3\n",
      "Not overwriting existing python script /nfs/team112_data03/personal/cl32/gitlab/malariagen/gsp/mutation-discovery-app/env/bin/python (you must use /nfs/team112_data03/personal/cl32/gitlab/malariagen/gsp/mutation-discovery-app/env/bin/python3)\n",
      "Installing setuptools, pkg_resources, pip, wheel...done.\n"
     ]
    }
   ],
   "source": [
    "!virtualenv --python=\"/usr/bin/python3\" ../env"
   ]
  },
  {
   "cell_type": "code",
   "execution_count": 3,
   "id": "d5d58d75-6dba-4c49-953c-24cb435228ad",
   "metadata": {},
   "outputs": [],
   "source": [
    "!source ../env/bin/activate"
   ]
  },
  {
   "cell_type": "code",
   "execution_count": 7,
   "id": "f65a4a36-2d49-4ac9-8fb3-45fbf3289ad0",
   "metadata": {},
   "outputs": [
    {
     "name": "stdout",
     "output_type": "stream",
     "text": [
      "\u001b[33mWARNING: Ignoring invalid distribution -andas (/nfs/users/nfs_c/cl32/.local/lib/python3.9/site-packages)\u001b[0m\u001b[33m\n",
      "\u001b[0mRequirement already satisfied: ipykernel in /software/isg/languages/Python-3.9.10/lib/python3.9/site-packages (6.6.1)\n",
      "Requirement already satisfied: debugpy<2.0,>=1.0.0 in /software/isg/languages/Python-3.9.10/lib/python3.9/site-packages (from ipykernel) (1.5.1)\n",
      "Requirement already satisfied: ipython>=7.23.1 in /software/isg/languages/Python-3.9.10/lib/python3.9/site-packages (from ipykernel) (7.31.0)\n",
      "Requirement already satisfied: traitlets<6.0,>=5.1.0 in /software/isg/languages/Python-3.9.10/lib/python3.9/site-packages (from ipykernel) (5.1.1)\n",
      "Requirement already satisfied: jupyter-client<8.0 in /software/isg/languages/Python-3.9.10/lib/python3.9/site-packages (from ipykernel) (7.1.0)\n",
      "Requirement already satisfied: tornado<7.0,>=4.2 in /software/isg/languages/Python-3.9.10/lib/python3.9/site-packages (from ipykernel) (6.1)\n",
      "Requirement already satisfied: matplotlib-inline<0.2.0,>=0.1.0 in /software/isg/languages/Python-3.9.10/lib/python3.9/site-packages (from ipykernel) (0.1.3)\n",
      "Requirement already satisfied: nest-asyncio in /software/isg/languages/Python-3.9.10/lib/python3.9/site-packages (from ipykernel) (1.5.4)\n",
      "Requirement already satisfied: setuptools>=18.5 in /nfs/users/nfs_c/cl32/.local/lib/python3.9/site-packages (from ipython>=7.23.1->ipykernel) (68.2.2)\n",
      "Requirement already satisfied: jedi>=0.16 in /software/isg/languages/Python-3.9.10/lib/python3.9/site-packages (from ipython>=7.23.1->ipykernel) (0.18.1)\n",
      "Requirement already satisfied: decorator in /software/isg/languages/Python-3.9.10/lib/python3.9/site-packages (from ipython>=7.23.1->ipykernel) (5.1.1)\n",
      "Requirement already satisfied: pickleshare in /software/isg/languages/Python-3.9.10/lib/python3.9/site-packages (from ipython>=7.23.1->ipykernel) (0.7.5)\n",
      "Requirement already satisfied: prompt-toolkit!=3.0.0,!=3.0.1,<3.1.0,>=2.0.0 in /software/isg/languages/Python-3.9.10/lib/python3.9/site-packages (from ipython>=7.23.1->ipykernel) (3.0.24)\n",
      "Requirement already satisfied: pygments in /nfs/users/nfs_c/cl32/.local/lib/python3.9/site-packages (from ipython>=7.23.1->ipykernel) (2.16.1)\n",
      "Requirement already satisfied: backcall in /software/isg/languages/Python-3.9.10/lib/python3.9/site-packages (from ipython>=7.23.1->ipykernel) (0.2.0)\n",
      "Requirement already satisfied: pexpect>4.3 in /software/isg/languages/Python-3.9.10/lib/python3.9/site-packages (from ipython>=7.23.1->ipykernel) (4.8.0)\n",
      "Requirement already satisfied: entrypoints in /software/isg/languages/Python-3.9.10/lib/python3.9/site-packages (from jupyter-client<8.0->ipykernel) (0.3)\n",
      "Requirement already satisfied: jupyter-core>=4.6.0 in /software/isg/languages/Python-3.9.10/lib/python3.9/site-packages (from jupyter-client<8.0->ipykernel) (4.9.1)\n",
      "Requirement already satisfied: python-dateutil>=2.1 in /software/isg/languages/Python-3.9.10/lib/python3.9/site-packages (from jupyter-client<8.0->ipykernel) (2.8.2)\n",
      "Requirement already satisfied: pyzmq>=13 in /software/isg/languages/Python-3.9.10/lib/python3.9/site-packages (from jupyter-client<8.0->ipykernel) (22.3.0)\n",
      "Requirement already satisfied: parso<0.9.0,>=0.8.0 in /software/isg/languages/Python-3.9.10/lib/python3.9/site-packages (from jedi>=0.16->ipython>=7.23.1->ipykernel) (0.8.3)\n",
      "Requirement already satisfied: ptyprocess>=0.5 in /software/isg/languages/Python-3.9.10/lib/python3.9/site-packages (from pexpect>4.3->ipython>=7.23.1->ipykernel) (0.7.0)\n",
      "Requirement already satisfied: wcwidth in /software/isg/languages/Python-3.9.10/lib/python3.9/site-packages (from prompt-toolkit!=3.0.0,!=3.0.1,<3.1.0,>=2.0.0->ipython>=7.23.1->ipykernel) (0.2.5)\n",
      "Requirement already satisfied: six>=1.5 in /software/isg/languages/Python-3.9.10/lib/python3.9/site-packages (from python-dateutil>=2.1->jupyter-client<8.0->ipykernel) (1.16.0)\n",
      "\u001b[33mWARNING: Ignoring invalid distribution -andas (/nfs/users/nfs_c/cl32/.local/lib/python3.9/site-packages)\u001b[0m\u001b[33m\n",
      "\u001b[0m\u001b[33mWARNING: There was an error checking the latest version of pip.\u001b[0m\u001b[33m\n",
      "\u001b[0m"
     ]
    }
   ],
   "source": [
    "!pip install --user ipykernel"
   ]
  },
  {
   "cell_type": "code",
   "execution_count": 7,
   "id": "4e074683-8834-4183-b767-70345a3a499b",
   "metadata": {},
   "outputs": [
    {
     "name": "stdout",
     "output_type": "stream",
     "text": [
      "Installed kernelspec env in /nfs/users/nfs_c/cl32/.local/share/jupyter/kernels/env\n"
     ]
    }
   ],
   "source": [
    "!python -m ipykernel install --user --name=env"
   ]
  },
  {
   "cell_type": "code",
   "execution_count": 8,
   "id": "205d9d3e-674c-4a2b-bbd3-c5ef0804b409",
   "metadata": {},
   "outputs": [
    {
     "name": "stdout",
     "output_type": "stream",
     "text": [
      "Available kernels:\n",
      "  env        /nfs/users/nfs_c/cl32/.local/share/jupyter/kernels/env\n",
      "  python2    /nfs/users/nfs_c/cl32/.local/share/jupyter/kernels/python2\n",
      "  python3    /nfs/users/nfs_c/cl32/.local/share/jupyter/kernels/python3\n",
      "  r          /software/isg/languages/Python-3.9.10/share/jupyter/kernels/R\n",
      "  bash       /software/isg/languages/Python-3.9.10/share/jupyter/kernels/bash\n"
     ]
    }
   ],
   "source": [
    "!jupyter kernelspec list"
   ]
  },
  {
   "cell_type": "code",
   "execution_count": 15,
   "id": "a20ba346-3705-41c8-b949-57b2ffa36447",
   "metadata": {},
   "outputs": [
    {
     "name": "stdout",
     "output_type": "stream",
     "text": [
      "[RemoveKernelSpec] Removed /nfs/users/nfs_c/cl32/.local/share/jupyter/kernels/env\n"
     ]
    }
   ],
   "source": [
    "# !jupyter kernelspec uninstall env -y"
   ]
  },
  {
   "cell_type": "code",
   "execution_count": 14,
   "id": "c17491e2-835e-409c-9f94-5cbd726bba3c",
   "metadata": {},
   "outputs": [
    {
     "name": "stdout",
     "output_type": "stream",
     "text": [
      "Defaulting to user installation because normal site-packages is not writeable\n",
      "\u001b[33mWARNING: Ignoring invalid distribution -andas (/nfs/users/nfs_c/cl32/.local/lib/python3.9/site-packages)\u001b[0m\u001b[33m\n",
      "\u001b[0mRequirement already satisfied: numpy==1.21.4 in /nfs/users/nfs_c/cl32/.local/lib/python3.9/site-packages (1.21.4)\n",
      "Collecting scipy==1.4.1\n",
      "  Using cached scipy-1.4.1.tar.gz (24.6 MB)\n",
      "  Installing build dependencies ... \u001b[?25ldone\n",
      "\u001b[?25h  Getting requirements to build wheel ... \u001b[?25ldone\n",
      "\u001b[?25h  Preparing metadata (pyproject.toml) ... \u001b[?25ldone\n",
      "\u001b[?25hCollecting pandas==1.2.3\n",
      "  Using cached pandas-1.2.3-cp39-cp39-manylinux1_x86_64.whl (9.7 MB)\n",
      "Collecting petlx==1.0.3\n",
      "  Using cached petlx-1.0.3.tar.gz (12 kB)\n",
      "  Installing build dependencies ... \u001b[?25ldone\n",
      "\u001b[?25h  Getting requirements to build wheel ... \u001b[?25ldone\n",
      "\u001b[?25h  Preparing metadata (pyproject.toml) ... \u001b[?25ldone\n",
      "\u001b[?25hCollecting zarr==2.4.0\n",
      "  Using cached zarr-2.4.0-py3-none-any.whl\n",
      "Requirement already satisfied: python-dateutil>=2.7.3 in /software/isg/languages/Python-3.9.10/lib/python3.9/site-packages (from pandas==1.2.3) (2.8.2)\n",
      "Requirement already satisfied: pytz>=2017.3 in /software/isg/languages/Python-3.9.10/lib/python3.9/site-packages (from pandas==1.2.3) (2021.3)\n",
      "Collecting petl>=1.0 (from petlx==1.0.3)\n",
      "  Using cached petl-1.7.14.tar.gz (411 kB)\n",
      "  Installing build dependencies ... \u001b[?25ldone\n",
      "\u001b[?25h  Getting requirements to build wheel ... \u001b[?25ldone\n",
      "\u001b[?25h  Preparing metadata (pyproject.toml) ... \u001b[?25ldone\n",
      "\u001b[?25hRequirement already satisfied: asciitree in /nfs/users/nfs_c/cl32/.local/lib/python3.9/site-packages (from zarr==2.4.0) (0.3.3)\n",
      "Requirement already satisfied: fasteners in /nfs/users/nfs_c/cl32/.local/lib/python3.9/site-packages (from zarr==2.4.0) (0.18)\n",
      "Requirement already satisfied: numcodecs>=0.6.4 in /nfs/users/nfs_c/cl32/.local/lib/python3.9/site-packages (from zarr==2.4.0) (0.11.0)\n",
      "Requirement already satisfied: entrypoints in /software/isg/languages/Python-3.9.10/lib/python3.9/site-packages (from numcodecs>=0.6.4->zarr==2.4.0) (0.3)\n",
      "Requirement already satisfied: six>=1.5 in /software/isg/languages/Python-3.9.10/lib/python3.9/site-packages (from python-dateutil>=2.7.3->pandas==1.2.3) (1.16.0)\n",
      "Building wheels for collected packages: scipy, petlx, petl\n",
      "  Building wheel for scipy (pyproject.toml) ... \u001b[?25l/^C\n",
      "\u001b[?25canceled\n",
      "\u001b[31mERROR: Operation cancelled by user\u001b[0m\u001b[31m\n",
      "\u001b[0m\u001b[33mWARNING: There was an error checking the latest version of pip.\u001b[0m\u001b[33m\n",
      "\u001b[0m"
     ]
    }
   ],
   "source": [
    "!pip install numpy==1.21.4 scipy==1.4.1 pandas==1.2.3 petlx==1.0.3 zarr==2.4.0"
   ]
  },
  {
   "cell_type": "code",
   "execution_count": null,
   "id": "9457cc20-e4b6-4fe8-8c80-e96e943cf42a",
   "metadata": {},
   "outputs": [],
   "source": [
    "!pip install pysam==0.15.4 h5py==2.10.0 scikit-allel==1.2.1"
   ]
  },
  {
   "cell_type": "code",
   "execution_count": 9,
   "id": "920a63f4-4f15-4d8d-ab81-86bd3bd1a20c",
   "metadata": {},
   "outputs": [
    {
     "name": "stdout",
     "output_type": "stream",
     "text": [
      "Defaulting to user installation because normal site-packages is not writeable\n",
      "\u001b[33mWARNING: Ignoring invalid distribution -andas (/nfs/users/nfs_c/cl32/.local/lib/python3.9/site-packages)\u001b[0m\u001b[33m\n",
      "\u001b[0mCollecting pysam\n",
      "  Downloading pysam-0.22.0.tar.gz (4.6 MB)\n",
      "\u001b[2K     \u001b[90m━━━━━━━━━━━━━━━━━━━━━━━━━━━━━━━━━━━━━━━━\u001b[0m \u001b[32m4.6/4.6 MB\u001b[0m \u001b[31m55.3 MB/s\u001b[0m eta \u001b[36m0:00:00\u001b[0m:00:01\u001b[0m00:01\u001b[0m\n",
      "\u001b[?25h  Installing build dependencies ... \u001b[?25ldone\n",
      "\u001b[?25h  Getting requirements to build wheel ... \u001b[?25ldone\n",
      "\u001b[?25h  Installing backend dependencies ... \u001b[?25ldone\n",
      "\u001b[?25h  Preparing metadata (pyproject.toml) ... \u001b[?25ldone\n",
      "\u001b[?25hBuilding wheels for collected packages: pysam\n",
      "  Building wheel for pysam (pyproject.toml) ... \u001b[?25ldone\n",
      "\u001b[?25h  Created wheel for pysam: filename=pysam-0.22.0-cp39-cp39-linux_x86_64.whl size=16879399 sha256=ef8bc67a758f85ce602395cc8fb5fe0d268a24af0e1f9fbc3eca037946cc130b\n",
      "  Stored in directory: /nfs/users/nfs_c/cl32/.cache/pip/wheels/0f/4a/1e/667e44d2281914fc3f223519ba8f7e606fa98752509f01a37b\n",
      "Successfully built pysam\n",
      "\u001b[33mWARNING: Ignoring invalid distribution -andas (/nfs/users/nfs_c/cl32/.local/lib/python3.9/site-packages)\u001b[0m\u001b[33m\n",
      "\u001b[0mInstalling collected packages: pysam\n",
      "Successfully installed pysam-0.22.0\n",
      "\u001b[33mWARNING: There was an error checking the latest version of pip.\u001b[0m\u001b[33m\n",
      "\u001b[0m"
     ]
    }
   ],
   "source": [
    "!pip install pysam==0.22.0\n",
    "# pysam==0.15.4 h5py==2.10.0 scikit-allel==1.2.1"
   ]
  },
  {
   "cell_type": "code",
   "execution_count": 10,
   "id": "e05dd685-d180-4794-a560-f127e441ac48",
   "metadata": {},
   "outputs": [
    {
     "name": "stdout",
     "output_type": "stream",
     "text": [
      "Defaulting to user installation because normal site-packages is not writeable\n",
      "\u001b[33mWARNING: Ignoring invalid distribution -andas (/nfs/users/nfs_c/cl32/.local/lib/python3.9/site-packages)\u001b[0m\u001b[33m\n",
      "\u001b[0mRequirement already satisfied: h5py in /software/isg/languages/Python-3.9.10/lib/python3.9/site-packages (3.6.0)\n",
      "Requirement already satisfied: numpy>=1.14.5 in /nfs/users/nfs_c/cl32/.local/lib/python3.9/site-packages (from h5py) (1.21.4)\n",
      "\u001b[33mWARNING: Ignoring invalid distribution -andas (/nfs/users/nfs_c/cl32/.local/lib/python3.9/site-packages)\u001b[0m\u001b[33m\n",
      "\u001b[0m\u001b[33mWARNING: There was an error checking the latest version of pip.\u001b[0m\u001b[33m\n",
      "\u001b[0m"
     ]
    }
   ],
   "source": [
    "!pip install h5py"
   ]
  },
  {
   "cell_type": "code",
   "execution_count": null,
   "id": "046fa72b-874d-4535-b12f-8934929ee6a3",
   "metadata": {},
   "outputs": [
    {
     "name": "stdout",
     "output_type": "stream",
     "text": [
      "Defaulting to user installation because normal site-packages is not writeable\n",
      "\u001b[33mWARNING: Ignoring invalid distribution -andas (/nfs/users/nfs_c/cl32/.local/lib/python3.9/site-packages)\u001b[0m\u001b[33m\n",
      "\u001b[0mRequirement already satisfied: scikit-allel in /nfs/users/nfs_c/cl32/.local/lib/python3.9/site-packages (1.3.6)\n",
      "Requirement already satisfied: numpy in /nfs/users/nfs_c/cl32/.local/lib/python3.9/site-packages (from scikit-allel) (1.21.4)\n",
      "Requirement already satisfied: dask[array] in /nfs/users/nfs_c/cl32/.local/lib/python3.9/site-packages (from scikit-allel) (2023.7.1)\n",
      "Requirement already satisfied: click>=8.0 in /nfs/users/nfs_c/cl32/.local/lib/python3.9/site-packages (from dask[array]->scikit-allel) (8.1.6)\n",
      "Requirement already satisfied: cloudpickle>=1.5.0 in /nfs/users/nfs_c/cl32/.local/lib/python3.9/site-packages (from dask[array]->scikit-allel) (2.2.1)\n",
      "Requirement already satisfied: fsspec>=2021.09.0 in /nfs/users/nfs_c/cl32/.local/lib/python3.9/site-packages (from dask[array]->scikit-allel) (2023.6.0)\n",
      "Requirement already satisfied: packaging>=20.0 in /software/isg/languages/Python-3.9.10/lib/python3.9/site-packages (from dask[array]->scikit-allel) (21.3)\n",
      "Requirement already satisfied: partd>=1.2.0 in /nfs/users/nfs_c/cl32/.local/lib/python3.9/site-packages (from dask[array]->scikit-allel) (1.4.0)\n",
      "Requirement already satisfied: pyyaml>=5.3.1 in /software/isg/languages/Python-3.9.10/lib/python3.9/site-packages (from dask[array]->scikit-allel) (6.0)\n",
      "Requirement already satisfied: toolz>=0.10.0 in /nfs/users/nfs_c/cl32/.local/lib/python3.9/site-packages (from dask[array]->scikit-allel) (0.12.0)\n",
      "Requirement already satisfied: importlib-metadata>=4.13.0 in /nfs/users/nfs_c/cl32/.local/lib/python3.9/site-packages (from dask[array]->scikit-allel) (4.13.0)\n",
      "Requirement already satisfied: zipp>=0.5 in /software/isg/languages/Python-3.9.10/lib/python3.9/site-packages (from importlib-metadata>=4.13.0->dask[array]->scikit-allel) (3.7.0)\n",
      "Requirement already satisfied: pyparsing!=3.0.5,>=2.0.2 in /software/isg/languages/Python-3.9.10/lib/python3.9/site-packages (from packaging>=20.0->dask[array]->scikit-allel) (3.0.6)\n",
      "Requirement already satisfied: locket in /nfs/users/nfs_c/cl32/.local/lib/python3.9/site-packages (from partd>=1.2.0->dask[array]->scikit-allel) (1.0.0)\n",
      "\u001b[33mWARNING: Ignoring invalid distribution -andas (/nfs/users/nfs_c/cl32/.local/lib/python3.9/site-packages)\u001b[0m\u001b[33m\n",
      "\u001b[0m\u001b[33mWARNING: There was an error checking the latest version of pip.\u001b[0m\u001b[33m\n",
      "\u001b[0m"
     ]
    }
   ],
   "source": [
    "!pip install scikit-allel"
   ]
  }
 ],
 "metadata": {
  "kernelspec": {
   "display_name": "Python 3",
   "language": "python",
   "name": "python3"
  },
  "language_info": {
   "codemirror_mode": {
    "name": "ipython",
    "version": 3
   },
   "file_extension": ".py",
   "mimetype": "text/x-python",
   "name": "python",
   "nbconvert_exporter": "python",
   "pygments_lexer": "ipython3",
   "version": "3.9.10"
  }
 },
 "nbformat": 4,
 "nbformat_minor": 5
}
