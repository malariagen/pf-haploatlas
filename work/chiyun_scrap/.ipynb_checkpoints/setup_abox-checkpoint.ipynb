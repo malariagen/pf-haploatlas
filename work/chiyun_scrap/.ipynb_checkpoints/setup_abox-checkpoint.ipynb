{
 "cells": [
  {
   "cell_type": "markdown",
   "metadata": {},
   "source": [
    "# Introduction\n",
    "General setup that is likely to be used in most notebooks. Shamelessly copied from https://github.com/wtsi-team112/vector-ops/blob/master/notebooks/setup.ipynb.\n",
    "\n",
    "To use in a notebook in same directory, start with:\n",
    "\n",
    "`%run setup_abox.ipynb`"
   ]
  },
  {
   "cell_type": "code",
   "execution_count": 1,
   "metadata": {},
   "outputs": [
    {
     "data": {
      "text/html": [
       "<style type=\"text/css\">\n",
       ".container {\n",
       "    width: 100%;\n",
       "}\n",
       "# div#notebook {\n",
       "#     padding-top: 1em;\n",
       "# }\n",
       "# #header-container {\n",
       "#     display: none;\n",
       "# }\n",
       "# #header-bar {\n",
       "#     display: none;\n",
       "# }\n",
       "# #maintoolbar {\n",
       "#     display: none;\n",
       "# }\n",
       "# #menubar-container {\n",
       "#     position: fixed;\n",
       "#     margin-top: 0;\n",
       "# }\n",
       "site {\n",
       "    height: auto !important;\n",
       "}\n",
       "</style>\n"
      ],
      "text/plain": [
       "<IPython.core.display.HTML object>"
      ]
     },
     "metadata": {},
     "output_type": "display_data"
    }
   ],
   "source": [
    "%%HTML\n",
    "<style type=\"text/css\">\n",
    ".container {\n",
    "    width: 100%;\n",
    "}\n",
    "# div#notebook {\n",
    "#     padding-top: 1em;\n",
    "# }\n",
    "# #header-container {\n",
    "#     display: none;\n",
    "# }\n",
    "# #header-bar {\n",
    "#     display: none;\n",
    "# }\n",
    "# #maintoolbar {\n",
    "#     display: none;\n",
    "# }\n",
    "# #menubar-container {\n",
    "#     position: fixed;\n",
    "#     margin-top: 0;\n",
    "# }\n",
    "site {\n",
    "    height: auto !important;\n",
    "}\n",
    "</style>"
   ]
  },
  {
   "cell_type": "code",
   "execution_count": 2,
   "metadata": {},
   "outputs": [],
   "source": [
    "# python standard library\n",
    "import sys\n",
    "import os\n",
    "import operator\n",
    "import itertools\n",
    "import collections\n",
    "import functools\n",
    "import glob\n",
    "import csv\n",
    "import datetime\n",
    "import bisect\n",
    "import sqlite3\n",
    "import subprocess\n",
    "import random\n",
    "import gc\n",
    "import shutil\n",
    "import shelve\n",
    "import contextlib\n",
    "import tempfile\n",
    "import math"
   ]
  },
  {
   "cell_type": "code",
   "execution_count": 3,
   "metadata": {},
   "outputs": [],
   "source": [
    "# general purpose third party packages\n",
    "\n",
    "import cython\n",
    "%reload_ext Cython\n",
    "\n",
    "import numpy as np\n",
    "nnz = np.count_nonzero\n",
    "import scipy\n",
    "import scipy.stats\n",
    "import scipy.spatial.distance\n",
    "# import numexpr\n",
    "import h5py\n",
    "# import tables\n",
    "# import bcolz\n",
    "import dask\n",
    "import dask.array as da\n",
    "import pandas as pd\n",
    "import IPython\n",
    "from IPython.display import clear_output, display, HTML\n",
    "import sklearn\n",
    "import sklearn.decomposition\n",
    "import sklearn.manifold\n",
    "import petl as etl\n",
    "etl.config.display_index_header = True\n",
    "# import humanize\n",
    "# from humanize import naturalsize, intcomma, intword\n",
    "import zarr\n",
    "# import graphviz\n",
    "import statsmodels.formula.api as sfa\n",
    "# import pymysql\n",
    "import MySQLdb\n",
    "import re"
   ]
  },
  {
   "cell_type": "code",
   "execution_count": 4,
   "metadata": {},
   "outputs": [],
   "source": [
    "# plotting setup\n",
    "import matplotlib as mpl\n",
    "import matplotlib.pyplot as plt\n",
    "from matplotlib.colors import ListedColormap\n",
    "from matplotlib.gridspec import GridSpec\n",
    "import matplotlib_venn as venn\n",
    "import seaborn as sns\n",
    "sns.set_context('paper')\n",
    "sns.set_style('white')\n",
    "sns.set_style('ticks')\n",
    "rcParams = plt.rcParams\n",
    "# N.B., reduced font size\n",
    "base_font_size = 8\n",
    "rcParams['font.size'] = base_font_size\n",
    "rcParams['axes.labelsize'] = base_font_size\n",
    "rcParams['xtick.labelsize'] = base_font_size\n",
    "rcParams['ytick.labelsize'] = base_font_size\n",
    "rcParams['legend.fontsize'] = base_font_size\n",
    "rcParams['axes.linewidth'] = .5\n",
    "rcParams['lines.linewidth'] = .5\n",
    "rcParams['patch.linewidth'] = .5\n",
    "rcParams['ytick.direction'] = 'out'\n",
    "rcParams['xtick.direction'] = 'out'\n",
    "# rcParams['savefig.jpeg_quality'] = 100\n",
    "rcParams['lines.markeredgewidth'] = .5\n",
    "rcParams['figure.max_open_warning'] = 1000"
   ]
  },
  {
   "cell_type": "code",
   "execution_count": 5,
   "metadata": {},
   "outputs": [],
   "source": [
    "# bio third party packages\n",
    "import Bio\n",
    "import pyfasta\n",
    "import pysam\n",
    "# import pysamstats\n",
    "import petlx\n",
    "import petlx.bio\n",
    "import vcf\n",
    "# import anhima\n",
    "import allel\n",
    "import skbio"
   ]
  },
  {
   "cell_type": "code",
   "execution_count": 6,
   "metadata": {},
   "outputs": [],
   "source": [
    "def print_library_versions():\n",
    "    print('python', sys.version)\n",
    "    print('numpy', np.__version__)\n",
    "    print('scipy', scipy.__version__)\n",
    "    print('pandas', pd.__version__)\n",
    "#     print('numexpr', numexpr.__version__)\n",
    "    print('pysam', pysam.__version__)\n",
    "#     print('pysamstats', pysamstats.__version__)\n",
    "    print('petlx', petlx.__version__)\n",
    "    print('vcf', vcf.VERSION)\n",
    "    print('h5py', h5py.__version__)\n",
    "#     print('tables', tables.__version__)\n",
    "    print('zarr', zarr.__version__)\n",
    "    print('scikit-allel', allel.__version__)\n"
   ]
  },
  {
   "cell_type": "code",
   "execution_count": 7,
   "metadata": {},
   "outputs": [
    {
     "name": "stdout",
     "output_type": "stream",
     "text": [
      "python 3.8.3 (default, May 16 2020, 07:08:28) \n",
      "[GCC 8.3.0]\n",
      "numpy 1.18.4\n",
      "scipy 1.4.1\n",
      "pandas 1.0.3\n",
      "pysam 0.15.4\n",
      "petlx 1.0.3\n",
      "vcf 0.6.8\n",
      "h5py 2.10.0\n",
      "zarr 2.4.0\n",
      "scikit-allel 1.2.1\n"
     ]
    }
   ],
   "source": [
    "print_library_versions()"
   ]
  },
  {
   "cell_type": "code",
   "execution_count": 8,
   "metadata": {},
   "outputs": [],
   "source": [
    "%matplotlib inline"
   ]
  }
 ],
 "metadata": {
  "kernelspec": {
   "display_name": "Python 3",
   "language": "python",
   "name": "python3"
  },
  "language_info": {
   "codemirror_mode": {
    "name": "ipython",
    "version": 3
   },
   "file_extension": ".py",
   "mimetype": "text/x-python",
   "name": "python",
   "nbconvert_exporter": "python",
   "pygments_lexer": "ipython3",
   "version": "3.9.10"
  }
 },
 "nbformat": 4,
 "nbformat_minor": 4
}
