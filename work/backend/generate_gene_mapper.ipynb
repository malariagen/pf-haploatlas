{
 "cells": [
  {
   "cell_type": "code",
   "execution_count": 24,
   "id": "027af25f-5fd7-4957-bbb5-c766d19b99b6",
   "metadata": {},
   "outputs": [],
   "source": [
    "import allel\n",
    "\n",
    "\n",
    "gff_fn = '/lustre/scratch124/gsu/legacy/pfalciparum/resources/snpEff/data/Pfalciparum_GeneDB_Feb2020/Pfalciparum_replace_Pf3D7_MIT_v3_with_Pf_M76611.gff'\n",
    "df_gff = allel.gff3_to_dataframe(gff_fn, attributes=['ID', 'Name'])\n",
    "Pf3D7_genes_list = list(set([s.split(\".\")[0] for s in df_gff.ID.unique() if \"PF3D7\" in s]))\n",
    "mapper = df_gff[[\"ID\", \"Name\"]].set_index(\"ID\").loc[Pf3D7_genes_list].reset_index().sort_values(\"ID\")"
   ]
  },
  {
   "cell_type": "code",
   "execution_count": 26,
   "id": "a52ef939-ffa5-4ff4-a9ab-cdf0b5f593e4",
   "metadata": {},
   "outputs": [
    {
     "data": {
      "text/html": [
       "<div>\n",
       "<style scoped>\n",
       "    .dataframe tbody tr th:only-of-type {\n",
       "        vertical-align: middle;\n",
       "    }\n",
       "\n",
       "    .dataframe tbody tr th {\n",
       "        vertical-align: top;\n",
       "    }\n",
       "\n",
       "    .dataframe thead th {\n",
       "        text-align: right;\n",
       "    }\n",
       "</style>\n",
       "<table border=\"1\" class=\"dataframe\">\n",
       "  <thead>\n",
       "    <tr style=\"text-align: right;\">\n",
       "      <th></th>\n",
       "      <th>ID</th>\n",
       "      <th>Name</th>\n",
       "    </tr>\n",
       "  </thead>\n",
       "  <tbody>\n",
       "    <tr>\n",
       "      <th>395</th>\n",
       "      <td>PF3D7_0100100</td>\n",
       "      <td>VAR</td>\n",
       "    </tr>\n",
       "    <tr>\n",
       "      <th>251</th>\n",
       "      <td>PF3D7_0100200</td>\n",
       "      <td>RIF</td>\n",
       "    </tr>\n",
       "    <tr>\n",
       "      <th>2161</th>\n",
       "      <td>PF3D7_0100300</td>\n",
       "      <td>VAR</td>\n",
       "    </tr>\n",
       "    <tr>\n",
       "      <th>1184</th>\n",
       "      <td>PF3D7_0100400</td>\n",
       "      <td>RIF</td>\n",
       "    </tr>\n",
       "    <tr>\n",
       "      <th>4996</th>\n",
       "      <td>PF3D7_0100500</td>\n",
       "      <td>.</td>\n",
       "    </tr>\n",
       "    <tr>\n",
       "      <th>...</th>\n",
       "      <td>...</td>\n",
       "      <td>...</td>\n",
       "    </tr>\n",
       "    <tr>\n",
       "      <th>4478</th>\n",
       "      <td>PF3D7_MIT03800</td>\n",
       "      <td>RNA14</td>\n",
       "    </tr>\n",
       "    <tr>\n",
       "      <th>163</th>\n",
       "      <td>PF3D7_MIT03900</td>\n",
       "      <td>RNA19</td>\n",
       "    </tr>\n",
       "    <tr>\n",
       "      <th>2028</th>\n",
       "      <td>PF3D7_MIT04000</td>\n",
       "      <td>LSUE</td>\n",
       "    </tr>\n",
       "    <tr>\n",
       "      <th>406</th>\n",
       "      <td>PF3D7_MIT04100</td>\n",
       "      <td>LSUD</td>\n",
       "    </tr>\n",
       "    <tr>\n",
       "      <th>5085</th>\n",
       "      <td>PF3D7_MIT04200</td>\n",
       "      <td>RNA8</td>\n",
       "    </tr>\n",
       "  </tbody>\n",
       "</table>\n",
       "<p>5740 rows × 2 columns</p>\n",
       "</div>"
      ],
      "text/plain": [
       "                  ID   Name\n",
       "395    PF3D7_0100100    VAR\n",
       "251    PF3D7_0100200    RIF\n",
       "2161   PF3D7_0100300    VAR\n",
       "1184   PF3D7_0100400    RIF\n",
       "4996   PF3D7_0100500      .\n",
       "...              ...    ...\n",
       "4478  PF3D7_MIT03800  RNA14\n",
       "163   PF3D7_MIT03900  RNA19\n",
       "2028  PF3D7_MIT04000   LSUE\n",
       "406   PF3D7_MIT04100   LSUD\n",
       "5085  PF3D7_MIT04200   RNA8\n",
       "\n",
       "[5740 rows x 2 columns]"
      ]
     },
     "execution_count": 26,
     "metadata": {},
     "output_type": "execute_result"
    }
   ],
   "source": [
    "mapper"
   ]
  },
  {
   "cell_type": "code",
   "execution_count": 27,
   "id": "04dcba00-94c8-4c91-85f6-d7c7a6657dd4",
   "metadata": {},
   "outputs": [],
   "source": [
    "import json\n",
    "\n",
    "with open(\"../frontend/gene_mapping.json\", \"w\") as f: \n",
    "    json.dump(dict(zip(mapper.ID, mapper.Name)), f, sort_keys = True)\n"
   ]
  },
  {
   "cell_type": "code",
   "execution_count": null,
   "id": "6da17227-edbb-4437-a3b6-b7b7183c521a",
   "metadata": {},
   "outputs": [],
   "source": []
  }
 ],
 "metadata": {
  "kernelspec": {
   "display_name": "Python 3",
   "language": "python",
   "name": "python3"
  },
  "language_info": {
   "codemirror_mode": {
    "name": "ipython",
    "version": 3
   },
   "file_extension": ".py",
   "mimetype": "text/x-python",
   "name": "python",
   "nbconvert_exporter": "python",
   "pygments_lexer": "ipython3",
   "version": "3.9.10"
  }
 },
 "nbformat": 4,
 "nbformat_minor": 5
}
